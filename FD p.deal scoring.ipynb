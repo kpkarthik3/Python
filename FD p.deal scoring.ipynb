{
 "cells": [
  {
   "cell_type": "code",
   "execution_count": 393,
   "metadata": {
    "collapsed": true
   },
   "outputs": [],
   "source": [
    "import numpy as np # imports a fast numerical programming library\n",
    "import scipy as sp #imports stats functions, amongst other things\n",
    "import matplotlib as mpl # this actually imports matplotlib\n",
    "import matplotlib.cm as cm #allows us easy access to colormaps\n",
    "import matplotlib.pyplot as plt #sets up plotting under plt\n",
    "import pandas as pd #lets us handle data as dataframes\n",
    "import math as m\n",
    "from math import cos, pi\n",
    "from itertools import cycle\n",
    "from sklearn import svm, datasets\n",
    "from sklearn.metrics import roc_curve, auc, accuracy_score, f1_score, precision_score, recall_score\n",
    "from sklearn.model_selection import train_test_split\n",
    "from sklearn.preprocessing import label_binarize\n",
    "from sklearn.multiclass import OneVsRestClassifier\n",
    "from scipy import interp\n",
    "from io import StringIO\n",
    "from datetime import datetime\n",
    "from dateutil.parser import parse\n",
    "from sklearn.ensemble import RandomForestClassifier\n",
    "from sklearn import tree\n",
    "from sklearn.preprocessing import LabelEncoder\n",
    "from collections import defaultdict\n",
    "from sklearn.ensemble import GradientBoostingClassifier #For Classification\n",
    "from sklearn.ensemble import GradientBoostingRegressor #For Regression\n"
   ]
  },
  {
   "cell_type": "code",
   "execution_count": 7,
   "metadata": {
    "collapsed": true
   },
   "outputs": [],
   "source": [
    "data = \"\"\"Date,Pollster,State,Party,Est\n",
    "13/03/2014, Newspoll, NSW, red, 25\n",
    "13/03/2014, Newspoll, NSW, blue, 28\n",
    "13/03/2014, Newspoll, Vic, red, 24\n",
    "13/03/2014, Newspoll, Vic, blue, 23\n",
    "13/03/2014, Galaxy, NSW, red, 23\n",
    "13/03/2014, Galaxy, NSW, blue, 24\n",
    "13/03/2014, Galaxy, Vic, red, 26\n",
    "13/03/2014, Galaxy, Vic, blue, 25`\n",
    "13/03/2014, Galaxy, Qld, red, 21\n",
    "13/03/2014, Galaxy, Qld, blue, 27\"\"\"\n",
    "df = pd.read_csv(StringIO(data),\n",
    "header=0, skipinitialspace=True)"
   ]
  },
  {
   "cell_type": "code",
   "execution_count": 13,
   "metadata": {
    "collapsed": true
   },
   "outputs": [],
   "source": [
    "# df.pivot(columns='Pollster')\n",
    "groups = pd.read_csv('/Users/user/Downloads/Scores and badges- History - History-Group .csv')\n",
    "ind =    pd.read_csv('/Users/user/Downloads/Scores and badges- History - History-Individual.csv')\n"
   ]
  },
  {
   "cell_type": "code",
   "execution_count": 34,
   "metadata": {},
   "outputs": [
    {
     "data": {
      "text/plain": [
       "Index(['Date', 'Activity Type', 'Group', 'Badges ', 'FreshCoins'], dtype='object')"
      ]
     },
     "execution_count": 34,
     "metadata": {},
     "output_type": "execute_result"
    }
   ],
   "source": [
    "groups.columns"
   ]
  },
  {
   "cell_type": "markdown",
   "metadata": {},
   "source": [
    "FD deal prediction model \n"
   ]
  },
  {
   "cell_type": "code",
   "execution_count": 199,
   "metadata": {
    "collapsed": true
   },
   "outputs": [],
   "source": [
    "raw_data = pd.read_csv('/Users/user/Desktop/Data Analysis/Freshsales/Raw Data/FD feature data.csv', header=None)"
   ]
  },
  {
   "cell_type": "code",
   "execution_count": 200,
   "metadata": {
    "collapsed": true
   },
   "outputs": [],
   "source": [
    "raw_data.columns = ['deal_id', \n",
    "'deal_amount',\n",
    "'source_id',\n",
    "'deal_type',\n",
    "'related_contacts_ID',\n",
    "'deal_owner_id',\n",
    "'territory_id',\n",
    "'deal_Stage',\n",
    "'product_id',\n",
    "'campaign_id',\n",
    "'created_at',\n",
    "'sales_account_id',\n",
    "'account_amount',\n",
    "'stage_updated_at',\n",
    "'contact_owner_id',\n",
    "'contact_has_authority',\n",
    "'contact_Lead_source_id',\n",
    "'contact_lead_score',\n",
    "'contact_do_not_disturb',\n",
    "'contact_open_deals_amount',\n",
    "'contact_Lead_source_id',\n",
    "'account_number_of_employees',\n",
    "'account_annual_revenue',\n",
    "'account_business_type_id',\n",
    "'account_industry_type_id',\n",
    "'account_territory_id',\n",
    "'contact_associated_deal_id']"
   ]
  },
  {
   "cell_type": "code",
   "execution_count": 201,
   "metadata": {
    "collapsed": true
   },
   "outputs": [],
   "source": [
    "raw_data = raw_data.drop_duplicates(subset='related_contacts_ID')"
   ]
  },
  {
   "cell_type": "code",
   "execution_count": 202,
   "metadata": {
    "collapsed": true
   },
   "outputs": [],
   "source": [
    "raw_data1 = raw_data[(raw_data.deal_Stage == 'Won') | (raw_data.deal_Stage == 'Lost')]\n",
    "                   #    = df[(df['a'] > 1) & (df['a'] < 5)]\n",
    "     # . mask = df['STK_ID'].isin([4, 2, 6]) \n",
    "                     # rst = rpt[rpt['STK_ID'] in stk_list] \n",
    "            #surveys_df[(surveys_df.year >= 1980) & (surveys_df.year <= 1985)] \n",
    "            \n",
    "           # train =  raw_data[(raw_data.deal_created_at == 'Won')]\n",
    "            "
   ]
  },
  {
   "cell_type": "code",
   "execution_count": 212,
   "metadata": {
    "scrolled": true
   },
   "outputs": [
    {
     "name": "stderr",
     "output_type": "stream",
     "text": [
      "/Users/user/anaconda/lib/python3.6/site-packages/ipykernel_launcher.py:12: SettingWithCopyWarning: \n",
      "A value is trying to be set on a copy of a slice from a DataFrame.\n",
      "Try using .loc[row_indexer,col_indexer] = value instead\n",
      "\n",
      "See the caveats in the documentation: http://pandas.pydata.org/pandas-docs/stable/indexing.html#indexing-view-versus-copy\n",
      "  if sys.path[0] == '':\n",
      "/Users/user/anaconda/lib/python3.6/site-packages/ipykernel_launcher.py:13: SettingWithCopyWarning: \n",
      "A value is trying to be set on a copy of a slice from a DataFrame.\n",
      "Try using .loc[row_indexer,col_indexer] = value instead\n",
      "\n",
      "See the caveats in the documentation: http://pandas.pydata.org/pandas-docs/stable/indexing.html#indexing-view-versus-copy\n",
      "  del sys.path[0]\n",
      "/Users/user/anaconda/lib/python3.6/site-packages/ipykernel_launcher.py:14: SettingWithCopyWarning: \n",
      "A value is trying to be set on a copy of a slice from a DataFrame.\n",
      "Try using .loc[row_indexer,col_indexer] = value instead\n",
      "\n",
      "See the caveats in the documentation: http://pandas.pydata.org/pandas-docs/stable/indexing.html#indexing-view-versus-copy\n",
      "  \n",
      "/Users/user/anaconda/lib/python3.6/site-packages/ipykernel_launcher.py:15: SettingWithCopyWarning: \n",
      "A value is trying to be set on a copy of a slice from a DataFrame.\n",
      "Try using .loc[row_indexer,col_indexer] = value instead\n",
      "\n",
      "See the caveats in the documentation: http://pandas.pydata.org/pandas-docs/stable/indexing.html#indexing-view-versus-copy\n",
      "  from ipykernel import kernelapp as app\n"
     ]
    }
   ],
   "source": [
    "#print(raw_data1['deal_Stage'])\n",
    "#len(raw_data1)\n",
    "#test = [datetime.strptime(X,'%Y-%m-%d') for X in ('2017-02-13 21:32:18\\n1')]\n",
    "#raw_data1['created_id'] = [datetime.strptime(X,'%Y-%m-%d') for X in raw_data1['created_id']]\n",
    "#pd.to_datetime(df['date'])\n",
    "#df['DateTime'] = pd.to_datetime(df['DateTime'], format='%Y%m%d', errors='ignore')\n",
    "#out= datetime.strptime('2017-02-13 21:32:18\\n1', '%Y-%m-%d  %H:%M')\n",
    "                        #[datetime.strptime(x, '%m/%d/%Y') for x in attack_dates]\n",
    "#('2017-02-13 21:32:18\\n1')\n",
    "#pd.to_datetime('2017-02-13 21:32:18\\n1', format='%Y%m%d', errors='coerce')\n",
    "#out\n",
    "raw_data1['created_at_parsed'] = raw_data1['created_at'].str.extract('(....-..-.. ..:..:..)', expand=True)\n",
    "raw_data1['created_at_parsed'] = pd.to_datetime(raw_data1['created_at_parsed'])\n",
    "raw_data1['stage_updated_at_parsed'] = raw_data1['stage_updated_at'].str.extract('(....-..-.. ..:..:..)', expand=True)\n",
    "raw_data1['stage_updated_at_parsed'] = pd.to_datetime(raw_data1['stage_updated_at_parsed'])\n",
    "\n",
    "#raw_data1['created_id'] = pd.to_datetime(raw_data1['created_id'], format='%Y%m%d', errors='ignore')\n",
    "#df['date'] = df['raw'].str.extract('(....-..-..)', expand=True)"
   ]
  },
  {
   "cell_type": "code",
   "execution_count": 225,
   "metadata": {
    "collapsed": true
   },
   "outputs": [],
   "source": [
    "raw_data1 = raw_data1[raw_data1.created_at_parsed < raw_data1.stage_updated_at_parsed ]\n",
    "\n",
    "train = raw_data1[raw_data1.created_at_parsed < '2017-03-01'] \n",
    "test =  raw_data1[raw_data1.created_at_parsed > '2017-03-01']"
   ]
  },
  {
   "cell_type": "code",
   "execution_count": 241,
   "metadata": {
    "collapsed": true
   },
   "outputs": [],
   "source": [
    "train_features = train[['deal_id', \n",
    "'deal_amount',\n",
    "'source_id',\n",
    "'deal_type',\n",
    "'deal_owner_id',\n",
    "'territory_id',\n",
    "'product_id',\n",
    "'campaign_id',\n",
    "'account_amount',\n",
    "'contact_has_authority',\n",
    "'contact_Lead_source_id',\n",
    "'contact_lead_score',\n",
    "'contact_do_not_disturb',\n",
    "'contact_open_deals_amount',\n",
    "'contact_Lead_source_id',\n",
    "'account_number_of_employees',\n",
    "'account_annual_revenue',\n",
    "'account_business_type_id',\n",
    "'account_industry_type_id',\n",
    "'account_territory_id']]\n",
    "# test dataset\n",
    "test_features = test[['deal_id', \n",
    "'deal_amount',\n",
    "'source_id',\n",
    "'deal_type',\n",
    "'deal_owner_id',\n",
    "'territory_id',\n",
    "'product_id',\n",
    "'campaign_id',\n",
    "'account_amount',\n",
    "'contact_has_authority',\n",
    "'contact_Lead_source_id',\n",
    "'contact_lead_score',\n",
    "'contact_do_not_disturb',\n",
    "'contact_open_deals_amount',\n",
    "'contact_Lead_source_id',\n",
    "'account_number_of_employees',\n",
    "'account_annual_revenue',\n",
    "'account_business_type_id',\n",
    "'account_industry_type_id',\n",
    "'account_territory_id']]"
   ]
  },
  {
   "cell_type": "code",
   "execution_count": 377,
   "metadata": {
    "collapsed": true
   },
   "outputs": [],
   "source": [
    "#y = pd.factorize(train['deal_Stage'])[0]\n",
    "#actual_value = pd.factorize(test['deal_Stage'])[0]\n",
    "y = np.where(train['deal_Stage'] == 'Won',1,0)\n",
    "actual_value = np.where(test['deal_Stage'] == 'Won',1,0)\n"
   ]
  },
  {
   "cell_type": "code",
   "execution_count": 329,
   "metadata": {
    "collapsed": true
   },
   "outputs": [],
   "source": [
    "#obj_train_features1 = train_features1.select_dtypes(include=['object']).copy()\n",
    "#non_obj_train_features1 = train_features1.select_dtypes( include = ['object']).copy()\n",
    "\n",
    "#lb_make = LabelEncoder()\n",
    "#obj_train_features1.columns\n",
    "#obj_df[\"make_code\"] = lb_make.fit_transform(obj_df[\"make\"])\n",
    "#obj_df[[\"make\", \"make_code\"]].head(11)\n",
    "d = defaultdict(LabelEncoder)\n",
    "# Encoding the variable\n",
    "code_test = test_features.apply(lambda test_features: d[test_features.name].fit_transform(test_features))\n",
    "code_train = train_features.apply(lambda train_features: d[train_features.name].fit_transform(train_features))\n"
   ]
  },
  {
   "cell_type": "code",
   "execution_count": 398,
   "metadata": {
    "collapsed": true
   },
   "outputs": [],
   "source": [
    "model = tree.DecisionTreeClassifier(criterion='gini') # for classification, here you can change the algorithm as gini or entropy (information gain) by default it is gini  \n",
    "# model = tree.DecisionTreeRegressor() for regression\n",
    "# Train the model using the training sets and check score\n",
    "model.fit(code_train, y)\n",
    "#model.score(X, y)\n",
    "#Predict Output\n",
    "predicted_decision_tree= model.predict(code_test)\n",
    "#len(predicted)"
   ]
  },
  {
   "cell_type": "code",
   "execution_count": 409,
   "metadata": {
    "collapsed": true
   },
   "outputs": [],
   "source": [
    "model= RandomForestClassifier(n_estimators=1000)\n",
    "# Train the model using the training sets and check score\n",
    "model.fit(code_train, y)\n",
    "#Predict Output\n",
    "predicted_random_forest= model.predict(code_test)"
   ]
  },
  {
   "cell_type": "code",
   "execution_count": 407,
   "metadata": {
    "collapsed": true
   },
   "outputs": [],
   "source": [
    "clf = GradientBoostingClassifier(n_estimators=100, learning_rate=1.0, max_depth=1)\n",
    "clf.fit(code_train, y)\n",
    "predicted_Gradient_boost= model.predict(code_test)\n"
   ]
  },
  {
   "cell_type": "code",
   "execution_count": 395,
   "metadata": {},
   "outputs": [
    {
     "data": {
      "text/html": [
       "<div>\n",
       "<style>\n",
       "    .dataframe thead tr:only-child th {\n",
       "        text-align: right;\n",
       "    }\n",
       "\n",
       "    .dataframe thead th {\n",
       "        text-align: left;\n",
       "    }\n",
       "\n",
       "    .dataframe tbody tr th {\n",
       "        vertical-align: top;\n",
       "    }\n",
       "</style>\n",
       "<table border=\"1\" class=\"dataframe\">\n",
       "  <thead>\n",
       "    <tr style=\"text-align: right;\">\n",
       "      <th>Predicted value</th>\n",
       "      <th>0</th>\n",
       "      <th>1</th>\n",
       "    </tr>\n",
       "    <tr>\n",
       "      <th>Actual value</th>\n",
       "      <th></th>\n",
       "      <th></th>\n",
       "    </tr>\n",
       "  </thead>\n",
       "  <tbody>\n",
       "    <tr>\n",
       "      <th>0</th>\n",
       "      <td>266</td>\n",
       "      <td>391</td>\n",
       "    </tr>\n",
       "    <tr>\n",
       "      <th>1</th>\n",
       "      <td>9105</td>\n",
       "      <td>7438</td>\n",
       "    </tr>\n",
       "  </tbody>\n",
       "</table>\n",
       "</div>"
      ],
      "text/plain": [
       "Predicted value     0     1\n",
       "Actual value               \n",
       "0                 266   391\n",
       "1                9105  7438"
      ]
     },
     "execution_count": 395,
     "metadata": {},
     "output_type": "execute_result"
    }
   ],
   "source": [
    "# Create confusion matrix\n",
    "pd.crosstab(actual_value, predicted, rownames=['Actual value'], colnames=['Predicted value'])\n"
   ]
  },
  {
   "cell_type": "code",
   "execution_count": 408,
   "metadata": {},
   "outputs": [
    {
     "name": "stdout",
     "output_type": "stream",
     "text": [
      "Decision tree- Accuracy:  0.448546511628\n",
      "Decision tree- F1-Score(Weighted):  0.588981798578\n",
      "random_forest- Accuracy:  0.743837209302\n",
      "random_forest- F1-Score(Weighted):  0.82105142382\n",
      "Gradient_boost- Accuracy:  0.743837209302\n",
      "Gradient_boost- F1-Score(Weighted):  0.82105142382\n"
     ]
    }
   ],
   "source": [
    "print( \"Decision tree- Accuracy: \", accuracy_score(actual_value, predicted_decision_tree, normalize=True, sample_weight=None)) \n",
    "\n",
    "print( \"Decision tree- F1-Score(Weighted): \", f1_score(actual_value, predicted_decision_tree, average='weighted'))\n",
    "\n",
    "print( \"random_forest- Accuracy: \", accuracy_score(actual_value, predicted_random_forest, normalize=True, sample_weight=None)) \n",
    "\n",
    "print( \"random_forest- F1-Score(Weighted): \", f1_score(actual_value, predicted_random_forest, average='weighted'))\n",
    "\n",
    "print( \"Gradient_boost- Accuracy: \", accuracy_score(actual_value, predicted_Gradient_boost, normalize=True, sample_weight=None)) \n",
    "\n",
    "print( \"Gradient_boost- F1-Score(Weighted): \", f1_score(actual_value, predicted_Gradient_boost, average='weighted'))\n",
    "\n",
    "#  f1_score(actual_value, predicted, average='weighted')\n"
   ]
  },
  {
   "cell_type": "code",
   "execution_count": 415,
   "metadata": {},
   "outputs": [
    {
     "name": "stdout",
     "output_type": "stream",
     "text": [
      "Train- won deals 95598\n",
      "Train- lost deals 2574\n"
     ]
    },
    {
     "data": {
      "text/plain": [
       "0.9618023255813953"
      ]
     },
     "execution_count": 415,
     "metadata": {},
     "output_type": "execute_result"
    }
   ],
   "source": [
    "#y = pd.factorize(train['deal_Stage'])[0]\n",
    "#y = pd.where(train['deal_Stage'] == 'Won',0,1)\n",
    "\n",
    "(14770 + 75)/ (14770 + 1773+ 582 + 75 )\n",
    "#temp = pd.DataFrame(actual_value)\n",
    "#temp.columns = ['col1']\n",
    "print (\"Train- won deals\", len(train[train['deal_Stage'] == 'Won']))\n",
    "print ( \"Train- lost deals\", len(train[train['deal_Stage'] == 'Lost']))\n",
    "#print ( 1- 657 / (14770 + 1773+ 582 + 75 ))\n",
    "#len(test)\n",
    "\n",
    "16543/(16543 + 657)"
   ]
  },
  {
   "cell_type": "code",
   "execution_count": 272,
   "metadata": {},
   "outputs": [
    {
     "name": "stderr",
     "output_type": "stream",
     "text": [
      "/Users/user/anaconda/lib/python3.6/site-packages/ipykernel_launcher.py:1: SettingWithCopyWarning: \n",
      "A value is trying to be set on a copy of a slice from a DataFrame.\n",
      "Try using .loc[row_indexer,col_indexer] = value instead\n",
      "\n",
      "See the caveats in the documentation: http://pandas.pydata.org/pandas-docs/stable/indexing.html#indexing-view-versus-copy\n",
      "  \"\"\"Entry point for launching an IPython kernel.\n",
      "/Users/user/anaconda/lib/python3.6/site-packages/ipykernel_launcher.py:2: SettingWithCopyWarning: \n",
      "A value is trying to be set on a copy of a slice from a DataFrame.\n",
      "Try using .loc[row_indexer,col_indexer] = value instead\n",
      "\n",
      "See the caveats in the documentation: http://pandas.pydata.org/pandas-docs/stable/indexing.html#indexing-view-versus-copy\n",
      "  \n",
      "/Users/user/anaconda/lib/python3.6/site-packages/ipykernel_launcher.py:3: SettingWithCopyWarning: \n",
      "A value is trying to be set on a copy of a slice from a DataFrame.\n",
      "Try using .loc[row_indexer,col_indexer] = value instead\n",
      "\n",
      "See the caveats in the documentation: http://pandas.pydata.org/pandas-docs/stable/indexing.html#indexing-view-versus-copy\n",
      "  This is separate from the ipykernel package so we can avoid doing imports until\n",
      "/Users/user/anaconda/lib/python3.6/site-packages/ipykernel_launcher.py:4: SettingWithCopyWarning: \n",
      "A value is trying to be set on a copy of a slice from a DataFrame.\n",
      "Try using .loc[row_indexer,col_indexer] = value instead\n",
      "\n",
      "See the caveats in the documentation: http://pandas.pydata.org/pandas-docs/stable/indexing.html#indexing-view-versus-copy\n",
      "  after removing the cwd from sys.path.\n",
      "/Users/user/anaconda/lib/python3.6/site-packages/ipykernel_launcher.py:5: SettingWithCopyWarning: \n",
      "A value is trying to be set on a copy of a slice from a DataFrame.\n",
      "Try using .loc[row_indexer,col_indexer] = value instead\n",
      "\n",
      "See the caveats in the documentation: http://pandas.pydata.org/pandas-docs/stable/indexing.html#indexing-view-versus-copy\n",
      "  \"\"\"\n",
      "/Users/user/anaconda/lib/python3.6/site-packages/ipykernel_launcher.py:6: SettingWithCopyWarning: \n",
      "A value is trying to be set on a copy of a slice from a DataFrame.\n",
      "Try using .loc[row_indexer,col_indexer] = value instead\n",
      "\n",
      "See the caveats in the documentation: http://pandas.pydata.org/pandas-docs/stable/indexing.html#indexing-view-versus-copy\n",
      "  \n",
      "/Users/user/anaconda/lib/python3.6/site-packages/ipykernel_launcher.py:9: SettingWithCopyWarning: \n",
      "A value is trying to be set on a copy of a slice from a DataFrame.\n",
      "Try using .loc[row_indexer,col_indexer] = value instead\n",
      "\n",
      "See the caveats in the documentation: http://pandas.pydata.org/pandas-docs/stable/indexing.html#indexing-view-versus-copy\n",
      "  if __name__ == '__main__':\n",
      "/Users/user/anaconda/lib/python3.6/site-packages/ipykernel_launcher.py:13: SettingWithCopyWarning: \n",
      "A value is trying to be set on a copy of a slice from a DataFrame.\n",
      "Try using .loc[row_indexer,col_indexer] = value instead\n",
      "\n",
      "See the caveats in the documentation: http://pandas.pydata.org/pandas-docs/stable/indexing.html#indexing-view-versus-copy\n",
      "  del sys.path[0]\n",
      "/Users/user/anaconda/lib/python3.6/site-packages/ipykernel_launcher.py:14: SettingWithCopyWarning: \n",
      "A value is trying to be set on a copy of a slice from a DataFrame.\n",
      "Try using .loc[row_indexer,col_indexer] = value instead\n",
      "\n",
      "See the caveats in the documentation: http://pandas.pydata.org/pandas-docs/stable/indexing.html#indexing-view-versus-copy\n",
      "  \n",
      "/Users/user/anaconda/lib/python3.6/site-packages/ipykernel_launcher.py:15: SettingWithCopyWarning: \n",
      "A value is trying to be set on a copy of a slice from a DataFrame.\n",
      "Try using .loc[row_indexer,col_indexer] = value instead\n",
      "\n",
      "See the caveats in the documentation: http://pandas.pydata.org/pandas-docs/stable/indexing.html#indexing-view-versus-copy\n",
      "  from ipykernel import kernelapp as app\n",
      "/Users/user/anaconda/lib/python3.6/site-packages/ipykernel_launcher.py:16: SettingWithCopyWarning: \n",
      "A value is trying to be set on a copy of a slice from a DataFrame.\n",
      "Try using .loc[row_indexer,col_indexer] = value instead\n",
      "\n",
      "See the caveats in the documentation: http://pandas.pydata.org/pandas-docs/stable/indexing.html#indexing-view-versus-copy\n",
      "  app.launch_new_instance()\n",
      "/Users/user/anaconda/lib/python3.6/site-packages/ipykernel_launcher.py:17: SettingWithCopyWarning: \n",
      "A value is trying to be set on a copy of a slice from a DataFrame.\n",
      "Try using .loc[row_indexer,col_indexer] = value instead\n",
      "\n",
      "See the caveats in the documentation: http://pandas.pydata.org/pandas-docs/stable/indexing.html#indexing-view-versus-copy\n",
      "/Users/user/anaconda/lib/python3.6/site-packages/ipykernel_launcher.py:18: SettingWithCopyWarning: \n",
      "A value is trying to be set on a copy of a slice from a DataFrame.\n",
      "Try using .loc[row_indexer,col_indexer] = value instead\n",
      "\n",
      "See the caveats in the documentation: http://pandas.pydata.org/pandas-docs/stable/indexing.html#indexing-view-versus-copy\n"
     ]
    }
   ],
   "source": [
    "train_features1['source_id'] = np.where(train_features1['source_id'] == '\\\\N','',train_features1['source_id'])\n",
    "train_features1['deal_type'] = np.where(train_features1['deal_type'] == '\\\\N','',train_features1['deal_type'])\n",
    "train_features1['deal_owner_id'] = np.where(train_features1['deal_owner_id'] == '\\\\N','',train_features1['deal_owner_id'])\n",
    "train_features1['territory_id'] = np.where(train_features1['territory_id'] == '\\\\N','',train_features1['territory_id'])\n",
    "train_features1['product_id'] = np.where(train_features1['product_id'] == '\\\\N','',train_features1['product_id'])\n",
    "train_features1['campaign_id'] = np.where(train_features1['campaign_id'] == '\\\\N','',train_features1['campaign_id'])\n",
    "#train_features1['account_amount'] = np.where(train_features1['account_amount'] == '\\\\N','',train_features1['account_amount'])\n",
    "#train_features1['contact_has_authority'] = np.where(train_features1['contact_has_authority'] == '\\\\N','',train_features1['contact_has_authority'])\n",
    "train_features1['contact_Lead_source_id'] = np.where(train_features1['contact_Lead_source_id'] == '\\\\N','',train_features1['contact_Lead_source_id'])\n",
    "#train_features1['contact_lead_score'] = np.where(train_features1['contact_lead_score'] == '\\\\N','',train_features1['contact_lead_score'])\n",
    "#train_features1['contact_do_not_disturb'] = np.where(train_features1['contact_do_not_disturb'] == '\\\\N','',train_features1['contact_do_not_disturb'])\n",
    "#train_features1['contact_open_deals_amount'] = np.where(train_features1['contact_open_deals_amount'] == '\\\\N','',train_features1['contact_open_deals_amount'])\n",
    "train_features1['contact_Lead_source_id'] = np.where(train_features1['contact_Lead_source_id'] == '\\\\N','',train_features1['contact_Lead_source_id'])\n",
    "train_features1['account_number_of_employees'] = np.where(train_features1['account_number_of_employees'] == '\\\\N','',train_features1['account_number_of_employees'])\n",
    "train_features1['account_annual_revenue'] = np.where(train_features1['account_annual_revenue'] == '\\\\N','',train_features1['account_annual_revenue'])\n",
    "train_features1['account_business_type_id'] = np.where(train_features1['account_business_type_id'] == '\\\\N','',train_features1['account_business_type_id'])\n",
    "train_features1['account_industry_type_id'] = np.where(train_features1['account_industry_type_id'] == '\\\\N','',train_features1['account_industry_type_id'])\n",
    "train_features1['account_territory_id'] = np.where(train_features1['account_territory_id'] == '\\\\N','',train_features1['account_territory_id'])\n"
   ]
  },
  {
   "cell_type": "code",
   "execution_count": null,
   "metadata": {
    "collapsed": true
   },
   "outputs": [],
   "source": [
    "test[['deal_id', \n",
    "'deal_amount',\n",
    "'source_id',\n",
    "'deal_type',\n",
    "'deal_owner_id',\n",
    "'territory_id',\n",
    "'product_id',\n",
    "'campaign_id',\n",
    "'account_amount',\n",
    "'contact_has_authority',\n",
    "'contact_Lead_source_id',\n",
    "'contact_lead_score',\n",
    "'contact_do_not_disturb',\n",
    "'contact_open_deals_amount',\n",
    "'contact_Lead_source_id',\n",
    "'account_number_of_employees',\n",
    "'account_annual_revenue',\n",
    "'account_business_type_id',\n",
    "'account_industry_type_id',\n",
    "'account_territory_id']]\n",
    "\n",
    "\n",
    "## object fields \n",
    "'deal_id', 'source_id', 'deal_type', 'deal_owner_id', 'territory_id',\n",
    "       'product_id', 'campaign_id', 'contact_Lead_source_id',\n",
    "       'contact_Lead_source_id', 'contact_Lead_source_id',\n",
    "       'contact_Lead_source_id', 'account_number_of_employees',\n",
    "       'account_annual_revenue', 'account_business_type_id',\n",
    "       'account_industry_type_id', 'account_territory_id'"
   ]
  },
  {
   "cell_type": "code",
   "execution_count": 291,
   "metadata": {},
   "outputs": [
    {
     "data": {
      "text/html": [
       "<div>\n",
       "<style>\n",
       "    .dataframe thead tr:only-child th {\n",
       "        text-align: right;\n",
       "    }\n",
       "\n",
       "    .dataframe thead th {\n",
       "        text-align: left;\n",
       "    }\n",
       "\n",
       "    .dataframe tbody tr th {\n",
       "        vertical-align: top;\n",
       "    }\n",
       "</style>\n",
       "<table border=\"1\" class=\"dataframe\">\n",
       "  <thead>\n",
       "    <tr style=\"text-align: right;\">\n",
       "      <th></th>\n",
       "      <th>deal_id</th>\n",
       "      <th>source_id</th>\n",
       "      <th>deal_type</th>\n",
       "      <th>deal_owner_id</th>\n",
       "      <th>territory_id</th>\n",
       "      <th>product_id</th>\n",
       "      <th>campaign_id</th>\n",
       "      <th>contact_Lead_source_id</th>\n",
       "      <th>contact_Lead_source_id</th>\n",
       "      <th>contact_Lead_source_id</th>\n",
       "      <th>contact_Lead_source_id</th>\n",
       "      <th>account_number_of_employees</th>\n",
       "      <th>account_annual_revenue</th>\n",
       "      <th>account_business_type_id</th>\n",
       "      <th>account_industry_type_id</th>\n",
       "      <th>account_territory_id</th>\n",
       "      <th>source_id_code</th>\n",
       "    </tr>\n",
       "  </thead>\n",
       "  <tbody>\n",
       "    <tr>\n",
       "      <th>0</th>\n",
       "      <td>73351b63a82e656125a3861d5aca2d2a6354964ef7b4ea...</td>\n",
       "      <td>e999ef72ce791eed3c2a72ebf83e47d54718d7dd84fe47...</td>\n",
       "      <td>424ecb629e41219fd1047409552222021739827ff6d9bf...</td>\n",
       "      <td>10019088bf99d78b83aa1d4472b941b11845701ed7b3b1...</td>\n",
       "      <td>75d6c30085c21c2b1173b3bfccfbe1ce1e9a238923e227...</td>\n",
       "      <td>06587e7973a8b2238994355216fb1778f044c5aa355a76...</td>\n",
       "      <td>b19196c417d635dac246a34986d3d36d2cc9d95a1a4806...</td>\n",
       "      <td>e999ef72ce791eed3c2a72ebf83e47d54718d7dd84fe47...</td>\n",
       "      <td>e999ef72ce791eed3c2a72ebf83e47d54718d7dd84fe47...</td>\n",
       "      <td>e999ef72ce791eed3c2a72ebf83e47d54718d7dd84fe47...</td>\n",
       "      <td>e999ef72ce791eed3c2a72ebf83e47d54718d7dd84fe47...</td>\n",
       "      <td></td>\n",
       "      <td></td>\n",
       "      <td></td>\n",
       "      <td></td>\n",
       "      <td>75d6c30085c21c2b1173b3bfccfbe1ce1e9a238923e227...</td>\n",
       "      <td>42</td>\n",
       "    </tr>\n",
       "    <tr>\n",
       "      <th>1</th>\n",
       "      <td>d24071e45190a0dd0e04aebd7cbe05d3cba99984ccd4e1...</td>\n",
       "      <td></td>\n",
       "      <td>424ecb629e41219fd1047409552222021739827ff6d9bf...</td>\n",
       "      <td>f38c0cad280982f25742fed54f4a3805728f089eaadab2...</td>\n",
       "      <td></td>\n",
       "      <td>06587e7973a8b2238994355216fb1778f044c5aa355a76...</td>\n",
       "      <td></td>\n",
       "      <td></td>\n",
       "      <td></td>\n",
       "      <td></td>\n",
       "      <td></td>\n",
       "      <td></td>\n",
       "      <td></td>\n",
       "      <td></td>\n",
       "      <td></td>\n",
       "      <td></td>\n",
       "      <td>0</td>\n",
       "    </tr>\n",
       "    <tr>\n",
       "      <th>2</th>\n",
       "      <td>235071f05dce2609d4f478ac5b04dc226591d1fe616b72...</td>\n",
       "      <td></td>\n",
       "      <td>424ecb629e41219fd1047409552222021739827ff6d9bf...</td>\n",
       "      <td></td>\n",
       "      <td>8fad718cf3325925b5569a0e9df6f8b734f4ff0038d2a4...</td>\n",
       "      <td>06587e7973a8b2238994355216fb1778f044c5aa355a76...</td>\n",
       "      <td></td>\n",
       "      <td></td>\n",
       "      <td></td>\n",
       "      <td></td>\n",
       "      <td></td>\n",
       "      <td></td>\n",
       "      <td></td>\n",
       "      <td></td>\n",
       "      <td></td>\n",
       "      <td>8fad718cf3325925b5569a0e9df6f8b734f4ff0038d2a4...</td>\n",
       "      <td>0</td>\n",
       "    </tr>\n",
       "    <tr>\n",
       "      <th>4</th>\n",
       "      <td>ffeac661824f35739f2b6fe46fd7bb7b0ecd6d69319500...</td>\n",
       "      <td></td>\n",
       "      <td>424ecb629e41219fd1047409552222021739827ff6d9bf...</td>\n",
       "      <td>24a277626867959eefefc9afb1225aff5e5329c8d11a9c...</td>\n",
       "      <td>785bf95dd6882c949b0e5bb36373927411c0926b0dd8ce...</td>\n",
       "      <td>06587e7973a8b2238994355216fb1778f044c5aa355a76...</td>\n",
       "      <td></td>\n",
       "      <td></td>\n",
       "      <td></td>\n",
       "      <td></td>\n",
       "      <td></td>\n",
       "      <td></td>\n",
       "      <td></td>\n",
       "      <td></td>\n",
       "      <td></td>\n",
       "      <td>785bf95dd6882c949b0e5bb36373927411c0926b0dd8ce...</td>\n",
       "      <td>0</td>\n",
       "    </tr>\n",
       "    <tr>\n",
       "      <th>11</th>\n",
       "      <td>7eb951ccbc43414598d3b165b49270b33984c09f81debc...</td>\n",
       "      <td>e999ef72ce791eed3c2a72ebf83e47d54718d7dd84fe47...</td>\n",
       "      <td>424ecb629e41219fd1047409552222021739827ff6d9bf...</td>\n",
       "      <td>7f54e2d868c8562f822d7a2f35e3324716b07c0b290092...</td>\n",
       "      <td>1457942d8fc315193616e50828d42a34c21823bf745e99...</td>\n",
       "      <td>06587e7973a8b2238994355216fb1778f044c5aa355a76...</td>\n",
       "      <td>b19196c417d635dac246a34986d3d36d2cc9d95a1a4806...</td>\n",
       "      <td>e999ef72ce791eed3c2a72ebf83e47d54718d7dd84fe47...</td>\n",
       "      <td>e999ef72ce791eed3c2a72ebf83e47d54718d7dd84fe47...</td>\n",
       "      <td>e999ef72ce791eed3c2a72ebf83e47d54718d7dd84fe47...</td>\n",
       "      <td>e999ef72ce791eed3c2a72ebf83e47d54718d7dd84fe47...</td>\n",
       "      <td></td>\n",
       "      <td></td>\n",
       "      <td></td>\n",
       "      <td></td>\n",
       "      <td>1457942d8fc315193616e50828d42a34c21823bf745e99...</td>\n",
       "      <td>42</td>\n",
       "    </tr>\n",
       "  </tbody>\n",
       "</table>\n",
       "</div>"
      ],
      "text/plain": [
       "                                              deal_id  \\\n",
       "0   73351b63a82e656125a3861d5aca2d2a6354964ef7b4ea...   \n",
       "1   d24071e45190a0dd0e04aebd7cbe05d3cba99984ccd4e1...   \n",
       "2   235071f05dce2609d4f478ac5b04dc226591d1fe616b72...   \n",
       "4   ffeac661824f35739f2b6fe46fd7bb7b0ecd6d69319500...   \n",
       "11  7eb951ccbc43414598d3b165b49270b33984c09f81debc...   \n",
       "\n",
       "                                            source_id  \\\n",
       "0   e999ef72ce791eed3c2a72ebf83e47d54718d7dd84fe47...   \n",
       "1                                                       \n",
       "2                                                       \n",
       "4                                                       \n",
       "11  e999ef72ce791eed3c2a72ebf83e47d54718d7dd84fe47...   \n",
       "\n",
       "                                            deal_type  \\\n",
       "0   424ecb629e41219fd1047409552222021739827ff6d9bf...   \n",
       "1   424ecb629e41219fd1047409552222021739827ff6d9bf...   \n",
       "2   424ecb629e41219fd1047409552222021739827ff6d9bf...   \n",
       "4   424ecb629e41219fd1047409552222021739827ff6d9bf...   \n",
       "11  424ecb629e41219fd1047409552222021739827ff6d9bf...   \n",
       "\n",
       "                                        deal_owner_id  \\\n",
       "0   10019088bf99d78b83aa1d4472b941b11845701ed7b3b1...   \n",
       "1   f38c0cad280982f25742fed54f4a3805728f089eaadab2...   \n",
       "2                                                       \n",
       "4   24a277626867959eefefc9afb1225aff5e5329c8d11a9c...   \n",
       "11  7f54e2d868c8562f822d7a2f35e3324716b07c0b290092...   \n",
       "\n",
       "                                         territory_id  \\\n",
       "0   75d6c30085c21c2b1173b3bfccfbe1ce1e9a238923e227...   \n",
       "1                                                       \n",
       "2   8fad718cf3325925b5569a0e9df6f8b734f4ff0038d2a4...   \n",
       "4   785bf95dd6882c949b0e5bb36373927411c0926b0dd8ce...   \n",
       "11  1457942d8fc315193616e50828d42a34c21823bf745e99...   \n",
       "\n",
       "                                           product_id  \\\n",
       "0   06587e7973a8b2238994355216fb1778f044c5aa355a76...   \n",
       "1   06587e7973a8b2238994355216fb1778f044c5aa355a76...   \n",
       "2   06587e7973a8b2238994355216fb1778f044c5aa355a76...   \n",
       "4   06587e7973a8b2238994355216fb1778f044c5aa355a76...   \n",
       "11  06587e7973a8b2238994355216fb1778f044c5aa355a76...   \n",
       "\n",
       "                                          campaign_id  \\\n",
       "0   b19196c417d635dac246a34986d3d36d2cc9d95a1a4806...   \n",
       "1                                                       \n",
       "2                                                       \n",
       "4                                                       \n",
       "11  b19196c417d635dac246a34986d3d36d2cc9d95a1a4806...   \n",
       "\n",
       "                               contact_Lead_source_id  \\\n",
       "0   e999ef72ce791eed3c2a72ebf83e47d54718d7dd84fe47...   \n",
       "1                                                       \n",
       "2                                                       \n",
       "4                                                       \n",
       "11  e999ef72ce791eed3c2a72ebf83e47d54718d7dd84fe47...   \n",
       "\n",
       "                               contact_Lead_source_id  \\\n",
       "0   e999ef72ce791eed3c2a72ebf83e47d54718d7dd84fe47...   \n",
       "1                                                       \n",
       "2                                                       \n",
       "4                                                       \n",
       "11  e999ef72ce791eed3c2a72ebf83e47d54718d7dd84fe47...   \n",
       "\n",
       "                               contact_Lead_source_id  \\\n",
       "0   e999ef72ce791eed3c2a72ebf83e47d54718d7dd84fe47...   \n",
       "1                                                       \n",
       "2                                                       \n",
       "4                                                       \n",
       "11  e999ef72ce791eed3c2a72ebf83e47d54718d7dd84fe47...   \n",
       "\n",
       "                               contact_Lead_source_id  \\\n",
       "0   e999ef72ce791eed3c2a72ebf83e47d54718d7dd84fe47...   \n",
       "1                                                       \n",
       "2                                                       \n",
       "4                                                       \n",
       "11  e999ef72ce791eed3c2a72ebf83e47d54718d7dd84fe47...   \n",
       "\n",
       "   account_number_of_employees account_annual_revenue  \\\n",
       "0                                                       \n",
       "1                                                       \n",
       "2                                                       \n",
       "4                                                       \n",
       "11                                                      \n",
       "\n",
       "   account_business_type_id account_industry_type_id  \\\n",
       "0                                                      \n",
       "1                                                      \n",
       "2                                                      \n",
       "4                                                      \n",
       "11                                                     \n",
       "\n",
       "                                 account_territory_id  source_id_code  \n",
       "0   75d6c30085c21c2b1173b3bfccfbe1ce1e9a238923e227...              42  \n",
       "1                                                                   0  \n",
       "2   8fad718cf3325925b5569a0e9df6f8b734f4ff0038d2a4...               0  \n",
       "4   785bf95dd6882c949b0e5bb36373927411c0926b0dd8ce...               0  \n",
       "11  1457942d8fc315193616e50828d42a34c21823bf745e99...              42  "
      ]
     },
     "execution_count": 291,
     "metadata": {},
     "output_type": "execute_result"
    }
   ],
   "source": [
    "\n",
    "lb_make = LabelEncoder()\n",
    "obj_train_features1['source_id_code']= lb_make.fit_transform(obj_train_features1['source_id'])\n",
    "#obj_train_features1['source_id','source_id_code']\n",
    "#obj_df[[\"make\", \"make_code\"]].head(11)\n",
    "obj_train_features1.head()\n",
    "\n"
   ]
  },
  {
   "cell_type": "code",
   "execution_count": 325,
   "metadata": {},
   "outputs": [
    {
     "name": "stdout",
     "output_type": "stream",
     "text": [
      "int64\n",
      "float64\n",
      "int64\n",
      "int64\n",
      "int64\n",
      "int64\n",
      "int64\n",
      "int64\n",
      "float64\n",
      "int64\n",
      "contact_Lead_source_id    object\n",
      "contact_Lead_source_id    object\n",
      "contact_Lead_source_id    object\n",
      "contact_Lead_source_id    object\n",
      "dtype: object\n"
     ]
    },
    {
     "ename": "ValueError",
     "evalue": "The truth value of a Series is ambiguous. Use a.empty, a.bool(), a.item(), a.any() or a.all().",
     "output_type": "error",
     "traceback": [
      "\u001b[0;31m---------------------------------------------------------------------------\u001b[0m",
      "\u001b[0;31mValueError\u001b[0m                                Traceback (most recent call last)",
      "\u001b[0;32m<ipython-input-325-0b45d91a0d2f>\u001b[0m in \u001b[0;36m<module>\u001b[0;34m()\u001b[0m\n\u001b[1;32m      4\u001b[0m        \u001b[0;31m# Encoding only categorical variables\u001b[0m\u001b[0;34m\u001b[0m\u001b[0;34m\u001b[0m\u001b[0m\n\u001b[1;32m      5\u001b[0m     \u001b[0mprint\u001b[0m \u001b[0;34m(\u001b[0m\u001b[0mtest_features\u001b[0m\u001b[0;34m[\u001b[0m\u001b[0mcol\u001b[0m\u001b[0;34m]\u001b[0m\u001b[0;34m.\u001b[0m\u001b[0mdtypes\u001b[0m\u001b[0;34m)\u001b[0m\u001b[0;34m\u001b[0m\u001b[0m\n\u001b[0;32m----> 6\u001b[0;31m     \u001b[0;32mif\u001b[0m \u001b[0mtest_features\u001b[0m\u001b[0;34m[\u001b[0m\u001b[0mcol\u001b[0m\u001b[0;34m]\u001b[0m\u001b[0;34m.\u001b[0m\u001b[0mdtypes\u001b[0m \u001b[0;34m==\u001b[0m \u001b[0;34m'object'\u001b[0m\u001b[0;34m:\u001b[0m\u001b[0;34m\u001b[0m\u001b[0m\n\u001b[0m\u001b[1;32m      7\u001b[0m      \u001b[0mprint\u001b[0m\u001b[0;34m(\u001b[0m\u001b[0;34m\"inside if\"\u001b[0m\u001b[0;34m)\u001b[0m\u001b[0;34m\u001b[0m\u001b[0m\n\u001b[1;32m      8\u001b[0m        \u001b[0;31m# Using whole data to form an exhaustive list of levels\u001b[0m\u001b[0;34m\u001b[0m\u001b[0;34m\u001b[0m\u001b[0m\n",
      "\u001b[0;32m/Users/user/anaconda/lib/python3.6/site-packages/pandas/core/generic.py\u001b[0m in \u001b[0;36m__nonzero__\u001b[0;34m(self)\u001b[0m\n\u001b[1;32m    951\u001b[0m         raise ValueError(\"The truth value of a {0} is ambiguous. \"\n\u001b[1;32m    952\u001b[0m                          \u001b[0;34m\"Use a.empty, a.bool(), a.item(), a.any() or a.all().\"\u001b[0m\u001b[0;34m\u001b[0m\u001b[0m\n\u001b[0;32m--> 953\u001b[0;31m                          .format(self.__class__.__name__))\n\u001b[0m\u001b[1;32m    954\u001b[0m \u001b[0;34m\u001b[0m\u001b[0m\n\u001b[1;32m    955\u001b[0m     \u001b[0m__bool__\u001b[0m \u001b[0;34m=\u001b[0m \u001b[0m__nonzero__\u001b[0m\u001b[0;34m\u001b[0m\u001b[0m\n",
      "\u001b[0;31mValueError\u001b[0m: The truth value of a Series is ambiguous. Use a.empty, a.bool(), a.item(), a.any() or a.all()."
     ]
    }
   ],
   "source": [
    "le=LabelEncoder()\n",
    "# Iterating over all the common columns in train and test\n",
    "for col in test_features.columns.values:\n",
    "       # Encoding only categorical variables\n",
    "    print (test_features[col].dtypes)\n",
    "    if test_features[col].dtypes == 'object':\n",
    "     print(\"inside if\")   \n",
    "       # Using whole data to form an exhaustive list of levels\n",
    "     data=train_features[col].append(test_features[col])\n",
    "     le.fit(data.values)\n",
    "     train_features[col]=le.transform(train_features[col])\n",
    "     test_features[col]=le.transform(test_features[col])"
   ]
  },
  {
   "cell_type": "code",
   "execution_count": 312,
   "metadata": {},
   "outputs": [
    {
     "data": {
      "text/plain": [
       "{dtype('int64'): Index(['deal_id', 'source_id', 'deal_type', 'deal_owner_id', 'territory_id',\n",
       "        'product_id', 'campaign_id', 'contact_has_authority',\n",
       "        'contact_lead_score', 'contact_do_not_disturb'],\n",
       "       dtype='object'),\n",
       " dtype('float64'): Index(['deal_amount', 'account_amount', 'contact_open_deals_amount'], dtype='object'),\n",
       " dtype('O'): Index(['contact_Lead_source_id', 'contact_Lead_source_id',\n",
       "        'contact_Lead_source_id', 'contact_Lead_source_id',\n",
       "        'account_number_of_employees', 'account_annual_revenue',\n",
       "        'account_business_type_id', 'account_industry_type_id',\n",
       "        'account_territory_id'],\n",
       "       dtype='object')}"
      ]
     },
     "execution_count": 312,
     "metadata": {},
     "output_type": "execute_result"
    }
   ],
   "source": [
    " test_features.columns.to_series().groupby(test_features.dtypes).groups"
   ]
  },
  {
   "cell_type": "code",
   "execution_count": 337,
   "metadata": {
    "collapsed": true
   },
   "outputs": [],
   "source": [
    "#raw_data.head()\n",
    "#len(raw_data1)\n",
    "#raw_data1.head(10)\n",
    "\n",
    "#raw_data1['created_id'].head(100)\n",
    "#raw_data1['created_id'].describe()\n",
    "#raw_data1['stage_updated_at_parsed'].hea\n",
    "#test_features.columns\n",
    "#train_features1['source_id'].unique()\n",
    "#train_features1 = train_features\n",
    "#Fd_Test['actual_value'] = np.where(Fd_Test['leadstage'] == 'Won', 1,0 )\n",
    "#train_features1['source_id'] = np.where(train_features1['source_id'] == '\\\\N','',train_features1['source_id'])"
   ]
  },
  {
   "cell_type": "code",
   "execution_count": 81,
   "metadata": {},
   "outputs": [
    {
     "data": {
      "text/plain": [
       "1.0"
      ]
     },
     "execution_count": 81,
     "metadata": {},
     "output_type": "execute_result"
    }
   ],
   "source": [
    "temp = pd.DataFrame(raw_data.groupby('deal_id')['related_contacts_ID'].count())\n",
    "temp['related_contacts_ID'].quantile()"
   ]
  },
  {
   "cell_type": "code",
   "execution_count": 83,
   "metadata": {},
   "outputs": [
    {
     "data": {
      "text/plain": [
       "24.0"
      ]
     },
     "execution_count": 83,
     "metadata": {},
     "output_type": "execute_result"
    }
   ],
   "source": [
    "np.percentile(temp['related_contacts_ID'],99, axis=0)"
   ]
  },
  {
   "cell_type": "code",
   "execution_count": 148,
   "metadata": {},
   "outputs": [
    {
     "data": {
      "text/plain": [
       "array(['Won', 'Lost'], dtype=object)"
      ]
     },
     "execution_count": 148,
     "metadata": {},
     "output_type": "execute_result"
    }
   ],
   "source": [
    "raw_data1['deal_Stage'].unique()"
   ]
  },
  {
   "cell_type": "code",
   "execution_count": 195,
   "metadata": {},
   "outputs": [
    {
     "data": {
      "text/plain": [
       "count         144736\n",
       "unique             1\n",
       "top       2017-02-13\n",
       "freq          144736\n",
       "Name: created_id, dtype: object"
      ]
     },
     "execution_count": 195,
     "metadata": {},
     "output_type": "execute_result"
    }
   ],
   "source": [
    "raw_data1['created_id'].describe()"
   ]
  },
  {
   "cell_type": "code",
   "execution_count": null,
   "metadata": {
    "collapsed": true
   },
   "outputs": [],
   "source": []
  }
 ],
 "metadata": {
  "kernelspec": {
   "display_name": "Python 3",
   "language": "python",
   "name": "python3"
  },
  "language_info": {
   "codemirror_mode": {
    "name": "ipython",
    "version": 3
   },
   "file_extension": ".py",
   "mimetype": "text/x-python",
   "name": "python",
   "nbconvert_exporter": "python",
   "pygments_lexer": "ipython3",
   "version": "3.6.1"
  }
 },
 "nbformat": 4,
 "nbformat_minor": 2
}
