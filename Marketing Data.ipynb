{
 "cells": [
  {
   "cell_type": "code",
   "execution_count": 2,
   "metadata": {
    "collapsed": true
   },
   "outputs": [],
   "source": [
    "import numpy as np # imports a fast numerical programming library\n",
    "import scipy as sp #imports stats functions, amongst other things\n",
    "import matplotlib as mpl # this actually imports matplotlib\n",
    "import matplotlib.cm as cm #allows us easy access to colormaps\n",
    "import matplotlib.pyplot as plt #sets up plotting under plt\n",
    "import pandas as pd #lets us handle data as dataframes\n",
    "import math as m\n",
    "from math import cos, pi\n",
    "from itertools import cycle\n",
    "from sklearn import svm, datasets\n",
    "from sklearn.metrics import roc_curve, auc, accuracy_score, f1_score, precision_score, recall_score\n",
    "from sklearn.model_selection import train_test_split\n",
    "from sklearn.preprocessing import label_binarize\n",
    "from sklearn.multiclass import OneVsRestClassifier\n",
    "from scipy import interp\n",
    "from io import StringIO\n",
    "from datetime import datetime\n",
    "from dateutil.parser import parse\n",
    "from sklearn.ensemble import RandomForestClassifier\n",
    "from sklearn import tree\n",
    "from sklearn.preprocessing import LabelEncoder\n",
    "from collections import defaultdict\n",
    "from sklearn.ensemble import GradientBoostingClassifier #For Classification\n",
    "from sklearn.ensemble import GradientBoostingRegressor #For Regression\n"
   ]
  },
  {
   "cell_type": "markdown",
   "metadata": {},
   "source": [
    "----import data "
   ]
  },
  {
   "cell_type": "code",
   "execution_count": 5,
   "metadata": {},
   "outputs": [],
   "source": [
    "#automation_rules = pd.read_csv(\"/Users/user/Desktop/Data Analysis/Marketing Da/automation rules data.csv\", header=None)\n",
    "#automation_rules.columns = ['account_id', 'type', 'count']\n",
    "#1. automation_rules_pivoted_trim\n",
    "# 2. ticket_count_priority_pivoted\n",
    "#3. agent_conv_length\n",
    "#4.  customer_conv_length\n",
    "#5. median_response_time\n",
    "#6. median__first_response_time\n",
    "#7. median_resolution_time\n",
    "#8. occasional_agent\n",
    "#9. soln_article\n",
    "#10.account_meta\n",
    "#11.  ticket_volume_monthly\n",
    "#test\n",
    "\n",
    "\n",
    "\n",
    "#ticket_count_priority= pd.read_csv(\"/Users/user/Desktop/Data Analysis/Marketing Da/ticket count priorityy.csv\", header=None,\n",
    "                       #            index_col =0)\n",
    "#ticket_count_priority.columns = ['priority_type', 'count']\n",
    "#ticket_volume_monthly = pd.read_csv(\"/Users/user/Desktop/Data Analysis/Marketing Da/ticket volumes.csv\", header=None,\n",
    "#                                 index_col =0)\n",
    "biz_hours = pd.read_csv(\"/Users/user/Desktop/Data Analysis/Marketing Da/calendar.csv\",header=None,\n",
    "                                 index_col =0)\n",
    "biz_hours.columns = ['calendar_config'] \n",
    "#s.account_id) as account_id, s.agent_limit, regexp_replace(decrypt_col(a.name),',',''), to_date(a.created_at), sp.name\n"
   ]
  },
  {
   "cell_type": "markdown",
   "metadata": {},
   "source": [
    "rename columns "
   ]
  },
  {
   "cell_type": "code",
   "execution_count": 74,
   "metadata": {
    "collapsed": true
   },
   "outputs": [],
   "source": [
    "#automation_rules_pivoted =automation_rules_pivoted.pivot(index='account_id', columns='type', values = 'count'  )\n",
    "#ticket_count_priority_pivoted =ticket_count_priority.pivot( columns='priority_type', values = 'count'  )\n",
    "\n",
    "#-- rule_type =1 (dispatchr) , rule_type =2 (Scenario Automation) , rule_type =3 (supervisor) , rule_type =4 (observer) \n",
    "#automation_rules_pivoted.columns = ['Dispatchr configured#', 'Scenario Automation configured#', 'supervisor Configured#',\n",
    "  #                                  'observer configured#', 'x','y']\n",
    "#automation_rules_pivoted_trim =automation_rules_pivoted[['Dispatchr configured#', 'Scenario Automation configured#', 'supervisor Configured#',\n",
    "#ticket_count_priority_pivoted.columns = ['low priority tickets#(monthly)', 'medium priority tickets#(monthly)', 'high priority tickets#(monthly)',\n",
    " #                  'urgent priority tickets#(monthly)']     \n",
    "#ticket_count_priority_pivoted['low priority tickets#(monthly)'] = ticket_count_priority_pivoted['low priority tickets#(monthly)'] /2\n",
    "\n",
    "#ticket_count_priority_pivoted['medium priority tickets#(monthly)'] = ticket_count_priority_pivoted['medium priority tickets#(monthly)'] /2\n",
    "#ticket_count_priority_pivoted['high priority tickets#(monthly)'] = ticket_count_priority_pivoted['high priority tickets#(monthly)'] /2\n",
    "#ticket_count_priority_pivoted['urgent priority tickets#(monthly)'] = ticket_count_priority_pivoted['low priority tickets#(monthly)'] /2\n",
    "\n",
    "#automation_rules_pivoted.columns                             \n",
    "                                   \n",
    "                                   \n",
    "                                  "
   ]
  },
  {
   "cell_type": "markdown",
   "metadata": {},
   "source": [
    "Merge dataframes "
   ]
  },
  {
   "cell_type": "code",
   "execution_count": 145,
   "metadata": {
    "collapsed": true
   },
   "outputs": [],
   "source": [
    "#account_meta.head(1000)\n",
    "#ticket_count_priority_pivoted.describe()\n",
    "#1. automation_rules_pivoted_trim\n",
    "# 2. ticket_count_priority_pivoted\n",
    "#3. agent_conv_length\n",
    "#4.  customer_conv_length\n",
    "#5. median_response_time\n",
    "#6. median__first_response_time\n",
    "#7. median_resolution_time\n",
    "#8. occasional_agent\n",
    "#9. soln_article\n",
    "#10.account_meta\n",
    "#11. ticket_volume_monthly\n",
    "Merged_Master= automation_rules_pivoted_trim.join(ticket_count_priority_pivoted).join(agent_conv_length).join(customer_conv_length).\\\n",
    "    join(median_response_time).join(median__first_response_time).join(median_resolution_time).join(occasional_agent).\\\n",
    "    join(soln_article).join(account_meta).join(ticket_volume_monthly)"
   ]
  },
  {
   "cell_type": "code",
   "execution_count": 146,
   "metadata": {
    "collapsed": true
   },
   "outputs": [],
   "source": [
    "Merged_Master = Merged_Master.fillna(0)\n",
    "Merged_Master.drop('bimonthly', axis=1, inplace=True)\n",
    "Merged_Master.rename(columns= {'monthly count': 'Total Tickets(monthly)'}, inplace = True)\n"
   ]
  },
  {
   "cell_type": "code",
   "execution_count": null,
   "metadata": {
    "collapsed": true
   },
   "outputs": [],
   "source": [
    "re-arrange columns"
   ]
  },
  {
   "cell_type": "code",
   "execution_count": 147,
   "metadata": {
    "collapsed": true
   },
   "outputs": [],
   "source": [
    "Merged_Master= Merged_Master[['account name','plan','account_creation_date', 'Dispatchr configured#', 'Scenario Automation configured#',\n",
    "       'supervisor Configured#', 'observer configured#',\n",
    "       'low priority tickets#(monthly)', 'medium priority tickets#(monthly)',\n",
    "       'high priority tickets#(monthly)', 'urgent priority tickets#(monthly)',\n",
    "       'agent_msgs#', 'customer_msgs#', 'median_response_time(mins)',\n",
    "       'median_first_response_time(mins)', 'median_resolution_time(mins)',\n",
    "       'occasional_agent_count#', 'no_of_soln.articles',\n",
    "       'solution_articles_views_count', 'full_time_agent_count',\n",
    "       'Total Tickets(monthly)']]"
   ]
  },
  {
   "cell_type": "code",
   "execution_count": 6,
   "metadata": {},
   "outputs": [
    {
     "name": "stdout",
     "output_type": "stream",
     "text": [
      "                                          calendar_config\n",
      "0                                                        \n",
      "5431    --- \u0001:weekdays: \u0001- 1\u0001- 2\u0001- 3\u0001- 4\u0001- 5\u0001:fullweek...\n",
      "173903  --- \u0001:working_hours: \u0001  1: \u0001    :beginning_of_...\n",
      "478803  --- \u0001:weekdays: \u0001- 1\u0001- 2\u0001- 3\u0001- 4\u0001- 5\u0001:working_...\n",
      "272987  --- \u0001:weekdays: \u0001- 1\u0001- 2\u0001- 3\u0001- 4\u0001- 5\u0001:working_...\n",
      "140472  --- \u0001:weekdays: \u0001- 1\u0001- 2\u0001- 3\u0001- 4\u0001- 5\u0001:working_...\n",
      "94932   --- \u0001:working_hours: \u0001  1: \u0001    :beginning_of_...\n",
      "193706  --- \u0001:weekdays: \u0001- 1\u0001- 2\u0001- 3\u0001- 4\u0001- 5\u0001:working_...\n",
      "485330  --- \u0001:working_hours: \u0001  1: \u0001    :beginning_of_...\n",
      "539569  --- \u0001:weekdays: \u0001- 1\u0001- 2\u0001- 3\u0001- 4\u0001- 5\u0001:working_...\n",
      "47423   --- \u0001:working_hours: \u0001  5: \u0001    :end_of_workda...\n",
      "442812  --- \u0001:working_hours: \u0001  1: \u0001    :beginning_of_...\n",
      "495175  --- \u0001:weekdays: \u0001- 1\u0001- 2\u0001- 3\u0001- 4\u0001- 5\u0001:working_...\n",
      "249883  --- \u0001:weekdays: \u0001- 1\u0001- 2\u0001- 3\u0001- 4\u0001- 5\u0001:working_...\n",
      "207115  --- \u0001:weekdays: \u0001- 1\u0001- 2\u0001- 3\u0001- 4\u0001- 5\u0001:working_...\n",
      "534277  --- \u0001:working_hours: \u0001  1: \u0001    :beginning_of_...\n",
      "402300  --- \u0001:working_hours: \u0001  1: \u0001    :beginning_of_...\n",
      "71919   --- \u0001:working_hours: \u0001  1: \u0001    :beginning_of_...\n",
      "409976  --- \u0001:weekdays: \u0001- 1\u0001- 2\u0001- 3\u0001- 4\u0001- 5\u0001:working_...\n",
      "452585  --- \u0001:weekdays: \u0001- 1\u0001- 2\u0001- 3\u0001- 4\u0001- 5\u0001:working_...\n",
      "17942   --- \u0001:weekdays: \u0001- 1\u0001- 2\u0001- 3\u0001- 4\u0001- 5\u0001:fullweek...\n",
      "242354  --- \u0001:weekdays: \u0001- 1\u0001- 2\u0001- 3\u0001- 4\u0001- 5\u0001:working_...\n",
      "20959   --- \u0001:fullweek: false\u0001:working_hours: \u0001  5: \u0001 ...\n",
      "248511  --- \u0001:weekdays: \u0001- 1\u0001- 2\u0001- 3\u0001- 4\u0001- 5\u0001- 6\u0001- 0\u0001:...\n",
      "55879   --- \u0001:working_hours: \u0001  5: \u0001    :beginning_of_...\n",
      "129628  --- \u0001:weekdays: \u0001- 1\u0001- 2\u0001- 3\u0001- 4\u0001- 5\u0001:working_...\n",
      "2469    --- \u0001:weekdays: \u0001- 1\u0001- 2\u0001- 3\u0001- 4\u0001- 5\u0001:fullweek...\n",
      "500032  --- \u0001:working_hours: \u0001  1: \u0001    :beginning_of_...\n",
      "388648  --- \u0001:weekdays: \u0001- 1\u0001- 2\u0001- 3\u0001- 4\u0001- 5\u0001:working_...\n",
      "96466   --- \u0001:weekdays: \u0001- 1\u0001- 2\u0001- 3\u0001- 4\u0001- 5\u0001:working_...\n",
      "491413  --- \u0001:weekdays: \u0001- 0\u0001- 1\u0001- 2\u0001- 3\u0001- 4\u0001- 5\u0001- 6\u0001:...\n",
      "...                                                   ...\n",
      "301482  --- \u0001:weekdays: \u0001- 1\u0001- 2\u0001- 3\u0001- 4\u0001- 5\u0001:working_...\n",
      "12772   --- \u0001:weekdays: \u0001- 1\u0001- 2\u0001- 3\u0001- 4\u0001- 5\u0001:working_...\n",
      "96390   --- \u0001:weekdays: \u0001- 1\u0001- 2\u0001- 3\u0001- 4\u0001- 5\u0001:working_...\n",
      "585588  --- \u0001:weekdays: \u0001- 1\u0001- 2\u0001- 3\u0001- 4\u0001- 5\u0001:working_...\n",
      "234279  --- \u0001:weekdays: \u0001- 1\u0001- 2\u0001- 3\u0001- 4\u0001- 5\u0001:working_...\n",
      "111706  --- \u0001:weekdays: \u0001- 1\u0001- 2\u0001- 3\u0001- 4\u0001- 5\u0001:working_...\n",
      "384984  --- \u0001:weekdays: \u0001- 1\u0001- 2\u0001- 3\u0001- 4\u0001- 5\u0001- 6\u0001- 0\u0001:...\n",
      "101716  --- \u0001:working_hours: \u0001  1: \u0001    :beginning_of_...\n",
      "99002   --- \u0001:working_hours: \u0001  1: \u0001    :beginning_of_...\n",
      "363419  --- \u0001:working_hours: \u0001  1: \u0001    :beginning_of_...\n",
      "514702  --- \u0001:weekdays: \u0001- 1\u0001- 2\u0001- 3\u0001- 4\u0001- 5\u0001:working_...\n",
      "222958  --- \u0001:weekdays: \u0001- 1\u0001- 2\u0001- 3\u0001- 4\u0001- 5\u0001:working_...\n",
      "573817  --- \u0001:weekdays: \u0001- 1\u0001- 2\u0001- 3\u0001- 4\u0001- 5\u0001:working_...\n",
      "167451  --- \u0001:weekdays: \u0001- 1\u0001- 2\u0001- 3\u0001- 4\u0001- 5\u0001:working_...\n",
      "183873  --- \u0001:weekdays: \u0001- 1\u0001- 2\u0001- 3\u0001- 4\u0001- 5\u0001:working_...\n",
      "12376   --- \u0001:weekdays: \u0001- 1\u0001- 2\u0001- 3\u0001- 4\u0001- 5\u0001- 6\u0001:full...\n",
      "7553    --- \u0001:weekdays: \u0001- 1\u0001- 2\u0001- 3\u0001- 4\u0001- 5\u0001- 6\u0001- 7\u0001:...\n",
      "483760  --- \u0001:weekdays: \u0001- 1\u0001- 2\u0001- 3\u0001- 4\u0001- 5\u0001:working_...\n",
      "287613  --- \u0001:working_hours: \u0001  1: \u0001    :beginning_of_...\n",
      "539457  --- \u0001:weekdays: \u0001- 1\u0001- 2\u0001- 3\u0001- 4\u0001- 5\u0001:working_...\n",
      "427321  --- \u0001:working_hours: \u0001  1: \u0001    :beginning_of_...\n",
      "150418  --- \u0001:weekdays: \u0001- 1\u0001- 2\u0001- 3\u0001- 4\u0001- 5\u0001:working_...\n",
      "55516   --- \u0001:weekdays: \u0001- 1\u0001- 2\u0001- 3\u0001- 4\u0001- 5\u0001:working_...\n",
      "156173  --- \u0001:weekdays: \u0001- 1\u0001- 2\u0001- 3\u0001- 4\u0001- 5\u0001:working_...\n",
      "312919  --- \u0001:weekdays: \u0001- 1\u0001- 2\u0001- 3\u0001- 4\u0001- 5\u0001:working_...\n",
      "522071  --- \u0001:working_hours: \u0001  1: \u0001    :beginning_of_...\n",
      "549633  --- \u0001:weekdays: \u0001- 1\u0001- 5\u0001:working_hours: \u0001  1:...\n",
      "79370   --- \u0001:weekdays: \u0001- 1\u0001- 2\u0001- 3\u0001- 4\u0001- 5\u0001:working_...\n",
      "386072  --- \u0001:weekdays: \u0001- 1\u0001- 2\u0001- 3\u0001- 4\u0001:working_hour...\n",
      "168721  --- \u0001:weekdays: \u0001- 0\u0001- 1\u0001- 2\u0001- 3\u0001- 4\u0001- 5\u0001- 6\u0001:...\n",
      "\n",
      "[100 rows x 1 columns]\n"
     ]
    }
   ],
   "source": [
    "#print(Merged_Master.head(10))\n",
    "print(biz_hours.head(100))\n",
    "#Merged_Master.head(100)\n",
    "#Merged_Master['monthly count'] = \n",
    "#len(account_meta)"
   ]
  },
  {
   "cell_type": "code",
   "execution_count": 152,
   "metadata": {
    "collapsed": true
   },
   "outputs": [],
   "source": [
    " Merged_Master.to_csv('/Users/user/Desktop/Data Analysis/Marketing Da/Merged_Master.csv')"
   ]
  },
  {
   "cell_type": "code",
   "execution_count": null,
   "metadata": {
    "collapsed": true
   },
   "outputs": [],
   "source": []
  }
 ],
 "metadata": {
  "kernelspec": {
   "display_name": "Python 3",
   "language": "python",
   "name": "python3"
  },
  "language_info": {
   "codemirror_mode": {
    "name": "ipython",
    "version": 3
   },
   "file_extension": ".py",
   "mimetype": "text/x-python",
   "name": "python",
   "nbconvert_exporter": "python",
   "pygments_lexer": "ipython3",
   "version": "3.6.1"
  }
 },
 "nbformat": 4,
 "nbformat_minor": 2
}
